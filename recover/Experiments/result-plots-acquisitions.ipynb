{
 "cells": [
  {
   "cell_type": "code",
   "execution_count": 1,
   "id": "a69db1b8",
   "metadata": {},
   "outputs": [],
   "source": [
    "import json\n",
    "import pandas as pd\n",
    "import matplotlib.pyplot as plt"
   ]
  },
  {
   "cell_type": "code",
   "execution_count": 2,
   "id": "bf047c67",
   "metadata": {},
   "outputs": [],
   "source": [
    "# Read the JSON file\n",
    "file_path = 'dropout/Dropout-greedy.json'\n",
    "with open(file_path, 'r') as file:\n",
    "    json_data = [json.loads(line) for line in file]\n",
    "\n",
    "# Create a DataFrame\n",
    "df_dropout_greedy = pd.DataFrame(json_data)"
   ]
  },
  {
   "cell_type": "code",
   "execution_count": 3,
   "id": "d825dcfd-c5a4-49b1-a547-5fff5e517d5b",
   "metadata": {},
   "outputs": [],
   "source": [
    "# Read the JSON file\n",
    "file_path = 'dropout/Dropout-RandomAcquisition.json'\n",
    "with open(file_path, 'r') as file:\n",
    "    json_data = [json.loads(line) for line in file]\n",
    "\n",
    "# Create a DataFrame\n",
    "df_dropout_random = pd.DataFrame(json_data)"
   ]
  },
  {
   "cell_type": "code",
   "execution_count": 4,
   "id": "6570f383-d720-4ee7-8668-8d418317e45c",
   "metadata": {},
   "outputs": [],
   "source": [
    "# Read the JSON file\n",
    "file_path = 'dropout/Dropout-UCB.json'\n",
    "with open(file_path, 'r') as file:\n",
    "    json_data = [json.loads(line) for line in file]\n",
    "\n",
    "# Create a DataFrame\n",
    "df_dropout_ucb = pd.DataFrame(json_data)"
   ]
  },
  {
   "cell_type": "code",
   "execution_count": 5,
   "id": "ffe135c7",
   "metadata": {},
   "outputs": [],
   "source": [
    "file_path = 'single_prior/single_prior_greedy.json'\n",
    "with open(file_path, 'r') as file:\n",
    "    json_data = [json.loads(line) for line in file]\n",
    "\n",
    "# Create a DataFrame\n",
    "df_greedy_single = pd.DataFrame(json_data)"
   ]
  },
  {
   "cell_type": "code",
   "execution_count": 6,
   "id": "b75f95a9",
   "metadata": {},
   "outputs": [],
   "source": [
    "file_path = 'single_prior/single_prior_RandomAcquisition.json'\n",
    "with open(file_path, 'r') as file:\n",
    "    json_data = [json.loads(line) for line in file]\n",
    "\n",
    "# Create a DataFrame\n",
    "df_single_random = pd.DataFrame(json_data)"
   ]
  },
  {
   "cell_type": "code",
   "execution_count": 7,
   "id": "3c42b6b6-cce1-4914-a1cc-0ae0170a95b5",
   "metadata": {},
   "outputs": [],
   "source": [
    "file_path = 'single_prior/single_prior_UCB.json'\n",
    "with open(file_path, 'r') as file:\n",
    "    json_data = [json.loads(line) for line in file]\n",
    "\n",
    "# Create a DataFrame\n",
    "df_single_ucb = pd.DataFrame(json_data)"
   ]
  },
  {
   "cell_type": "code",
   "execution_count": 8,
   "id": "44e6ceb9-9562-43db-bad7-e97a0b15dfff",
   "metadata": {},
   "outputs": [],
   "source": [
    "file_path = 'two_mixture_prior/mixture_greedy.json'\n",
    "with open(file_path, 'r') as file:\n",
    "    json_data = [json.loads(line) for line in file]\n",
    "\n",
    "# Create a DataFrame\n",
    "df_mixture_greedy = pd.DataFrame(json_data)"
   ]
  },
  {
   "cell_type": "code",
   "execution_count": 9,
   "id": "431c0e02-ffcd-4ce1-8105-796bbaf25967",
   "metadata": {},
   "outputs": [],
   "source": [
    "file_path = 'two_mixture_prior/mixture_random.json'\n",
    "with open(file_path, 'r') as file:\n",
    "    json_data = [json.loads(line) for line in file]\n",
    "\n",
    "# Create a DataFrame\n",
    "df_mixture_random = pd.DataFrame(json_data)"
   ]
  },
  {
   "cell_type": "code",
   "execution_count": 3,
   "id": "e6a6ce9e-82b4-4b8b-967f-9f72966d20f0",
   "metadata": {},
   "outputs": [],
   "source": [
    "file_path = 'two_mixture_prior/mixture_ucb.json'\n",
    "with open(file_path, 'r') as file:\n",
    "    json_data = [json.loads(line) for line in file]\n",
    "\n",
    "# Create a DataFrame\n",
    "df_mixture_ucb = pd.DataFrame(json_data)"
   ]
  },
  {
   "cell_type": "code",
   "execution_count": 11,
   "id": "c37a2310",
   "metadata": {},
   "outputs": [],
   "source": [
    "file_path = 'Laplace/Laplace_greedy.json'\n",
    "with open(file_path, 'r') as file:\n",
    "    json_data = [json.loads(line) for line in file]\n",
    "\n",
    "# Create a DataFrame\n",
    "df_laplace_greedy = pd.DataFrame(json_data)"
   ]
  },
  {
   "cell_type": "code",
   "execution_count": 12,
   "id": "3a6fe488",
   "metadata": {},
   "outputs": [],
   "source": [
    "file_path = 'Laplace/Laplace_random.json'\n",
    "with open(file_path, 'r') as file:\n",
    "    json_data = [json.loads(line) for line in file]\n",
    "\n",
    "# Create a DataFrame\n",
    "df_laplace_random= pd.DataFrame(json_data)"
   ]
  },
  {
   "cell_type": "code",
   "execution_count": 13,
   "id": "43e02117",
   "metadata": {},
   "outputs": [],
   "source": [
    "file_path = 'Laplace/Laplace_UCB_1.json'\n",
    "with open(file_path, 'r') as file:\n",
    "    json_data = [json.loads(line) for line in file]\n",
    "\n",
    "# Create a DataFrame\n",
    "df_laplace_UCB = pd.DataFrame(json_data)"
   ]
  },
  {
   "cell_type": "code",
   "execution_count": 4,
   "id": "44e086a4",
   "metadata": {},
   "outputs": [],
   "source": [
    "file_path = 'ensemble-mixture.json'\n",
    "with open(file_path, 'r') as file:\n",
    "    json_data = [json.loads(line) for line in file]\n",
    "\n",
    "# Create a DataFrame\n",
    "df_ensemble_mixture = pd.DataFrame(json_data)"
   ]
  },
  {
   "cell_type": "code",
   "execution_count": 5,
   "id": "8cd17703",
   "metadata": {},
   "outputs": [],
   "source": [
    "n = len(df_dropout_greedy[\"top\"])\n",
    "iterations = list(range(1, n + 1))"
   ]
  },
  {
   "cell_type": "code",
   "execution_count": 6,
   "id": "ca12c923",
   "metadata": {},
   "outputs": [
    {
     "ename": "ValueError",
     "evalue": "x and y must have same first dimension, but have shapes (134,) and (130,)",
     "output_type": "error",
     "traceback": [
      "\u001b[0;31m---------------------------------------------------------------------------\u001b[0m",
      "\u001b[0;31mValueError\u001b[0m                                Traceback (most recent call last)",
      "Cell \u001b[0;32mIn[6], line 18\u001b[0m\n\u001b[1;32m     11\u001b[0m plt\u001b[38;5;241m.\u001b[39mplot(iterations, df_mixture_ucb[\u001b[38;5;124m\"\u001b[39m\u001b[38;5;124mtop\u001b[39m\u001b[38;5;124m\"\u001b[39m], label\u001b[38;5;241m=\u001b[39m \u001b[38;5;124m\"\u001b[39m\u001b[38;5;124mdf_mixture_ucb\u001b[39m\u001b[38;5;124m\"\u001b[39m)\n\u001b[1;32m     12\u001b[0m \u001b[38;5;66;03m# plt.plot(iterations, df_mixture_random[\"top\"], label= \"df_mixture_random\")\u001b[39;00m\n\u001b[1;32m     13\u001b[0m \n\u001b[1;32m     14\u001b[0m \u001b[38;5;66;03m# plt.plot(iterations, df_laplace_greedy[\"top\"], label= \"df_laplace_greedy\")\u001b[39;00m\n\u001b[1;32m     15\u001b[0m \u001b[38;5;66;03m# plt.plot(iterations, df_laplace_random[\"top\"], label= \"df_laplace_random\")\u001b[39;00m\n\u001b[1;32m     16\u001b[0m \u001b[38;5;66;03m# plt.plot(iterations, df_laplace_UCB[\"top\"], label= \"df_laplace_UCB\")\u001b[39;00m\n\u001b[0;32m---> 18\u001b[0m plt\u001b[38;5;241m.\u001b[39mplot(iterations, df_ensemble_mixture[\u001b[38;5;124m\"\u001b[39m\u001b[38;5;124mtop\u001b[39m\u001b[38;5;124m\"\u001b[39m], label\u001b[38;5;241m=\u001b[39m \u001b[38;5;124m\"\u001b[39m\u001b[38;5;124mensemble-mixture\u001b[39m\u001b[38;5;124m\"\u001b[39m)\n\u001b[1;32m     20\u001b[0m \u001b[38;5;66;03m# Set labels and title\u001b[39;00m\n\u001b[1;32m     21\u001b[0m plt\u001b[38;5;241m.\u001b[39mxlabel(\u001b[38;5;124m'\u001b[39m\u001b[38;5;124mItrations\u001b[39m\u001b[38;5;124m'\u001b[39m)\n",
      "File \u001b[0;32m~/anaconda3/lib/python3.11/site-packages/matplotlib/pyplot.py:3578\u001b[0m, in \u001b[0;36mplot\u001b[0;34m(scalex, scaley, data, *args, **kwargs)\u001b[0m\n\u001b[1;32m   3570\u001b[0m \u001b[38;5;129m@_copy_docstring_and_deprecators\u001b[39m(Axes\u001b[38;5;241m.\u001b[39mplot)\n\u001b[1;32m   3571\u001b[0m \u001b[38;5;28;01mdef\u001b[39;00m \u001b[38;5;21mplot\u001b[39m(\n\u001b[1;32m   3572\u001b[0m     \u001b[38;5;241m*\u001b[39margs: \u001b[38;5;28mfloat\u001b[39m \u001b[38;5;241m|\u001b[39m ArrayLike \u001b[38;5;241m|\u001b[39m \u001b[38;5;28mstr\u001b[39m,\n\u001b[0;32m   (...)\u001b[0m\n\u001b[1;32m   3576\u001b[0m     \u001b[38;5;241m*\u001b[39m\u001b[38;5;241m*\u001b[39mkwargs,\n\u001b[1;32m   3577\u001b[0m ) \u001b[38;5;241m-\u001b[39m\u001b[38;5;241m>\u001b[39m \u001b[38;5;28mlist\u001b[39m[Line2D]:\n\u001b[0;32m-> 3578\u001b[0m     \u001b[38;5;28;01mreturn\u001b[39;00m gca()\u001b[38;5;241m.\u001b[39mplot(\n\u001b[1;32m   3579\u001b[0m         \u001b[38;5;241m*\u001b[39margs,\n\u001b[1;32m   3580\u001b[0m         scalex\u001b[38;5;241m=\u001b[39mscalex,\n\u001b[1;32m   3581\u001b[0m         scaley\u001b[38;5;241m=\u001b[39mscaley,\n\u001b[1;32m   3582\u001b[0m         \u001b[38;5;241m*\u001b[39m\u001b[38;5;241m*\u001b[39m({\u001b[38;5;124m\"\u001b[39m\u001b[38;5;124mdata\u001b[39m\u001b[38;5;124m\"\u001b[39m: data} \u001b[38;5;28;01mif\u001b[39;00m data \u001b[38;5;129;01mis\u001b[39;00m \u001b[38;5;129;01mnot\u001b[39;00m \u001b[38;5;28;01mNone\u001b[39;00m \u001b[38;5;28;01melse\u001b[39;00m {}),\n\u001b[1;32m   3583\u001b[0m         \u001b[38;5;241m*\u001b[39m\u001b[38;5;241m*\u001b[39mkwargs,\n\u001b[1;32m   3584\u001b[0m     )\n",
      "File \u001b[0;32m~/anaconda3/lib/python3.11/site-packages/matplotlib/axes/_axes.py:1721\u001b[0m, in \u001b[0;36mAxes.plot\u001b[0;34m(self, scalex, scaley, data, *args, **kwargs)\u001b[0m\n\u001b[1;32m   1478\u001b[0m \u001b[38;5;250m\u001b[39m\u001b[38;5;124;03m\"\"\"\u001b[39;00m\n\u001b[1;32m   1479\u001b[0m \u001b[38;5;124;03mPlot y versus x as lines and/or markers.\u001b[39;00m\n\u001b[1;32m   1480\u001b[0m \n\u001b[0;32m   (...)\u001b[0m\n\u001b[1;32m   1718\u001b[0m \u001b[38;5;124;03m(``'green'``) or hex strings (``'#008000'``).\u001b[39;00m\n\u001b[1;32m   1719\u001b[0m \u001b[38;5;124;03m\"\"\"\u001b[39;00m\n\u001b[1;32m   1720\u001b[0m kwargs \u001b[38;5;241m=\u001b[39m cbook\u001b[38;5;241m.\u001b[39mnormalize_kwargs(kwargs, mlines\u001b[38;5;241m.\u001b[39mLine2D)\n\u001b[0;32m-> 1721\u001b[0m lines \u001b[38;5;241m=\u001b[39m [\u001b[38;5;241m*\u001b[39m\u001b[38;5;28mself\u001b[39m\u001b[38;5;241m.\u001b[39m_get_lines(\u001b[38;5;28mself\u001b[39m, \u001b[38;5;241m*\u001b[39margs, data\u001b[38;5;241m=\u001b[39mdata, \u001b[38;5;241m*\u001b[39m\u001b[38;5;241m*\u001b[39mkwargs)]\n\u001b[1;32m   1722\u001b[0m \u001b[38;5;28;01mfor\u001b[39;00m line \u001b[38;5;129;01min\u001b[39;00m lines:\n\u001b[1;32m   1723\u001b[0m     \u001b[38;5;28mself\u001b[39m\u001b[38;5;241m.\u001b[39madd_line(line)\n",
      "File \u001b[0;32m~/anaconda3/lib/python3.11/site-packages/matplotlib/axes/_base.py:303\u001b[0m, in \u001b[0;36m_process_plot_var_args.__call__\u001b[0;34m(self, axes, data, *args, **kwargs)\u001b[0m\n\u001b[1;32m    301\u001b[0m     this \u001b[38;5;241m+\u001b[39m\u001b[38;5;241m=\u001b[39m args[\u001b[38;5;241m0\u001b[39m],\n\u001b[1;32m    302\u001b[0m     args \u001b[38;5;241m=\u001b[39m args[\u001b[38;5;241m1\u001b[39m:]\n\u001b[0;32m--> 303\u001b[0m \u001b[38;5;28;01myield from\u001b[39;00m \u001b[38;5;28mself\u001b[39m\u001b[38;5;241m.\u001b[39m_plot_args(\n\u001b[1;32m    304\u001b[0m     axes, this, kwargs, ambiguous_fmt_datakey\u001b[38;5;241m=\u001b[39mambiguous_fmt_datakey)\n",
      "File \u001b[0;32m~/anaconda3/lib/python3.11/site-packages/matplotlib/axes/_base.py:499\u001b[0m, in \u001b[0;36m_process_plot_var_args._plot_args\u001b[0;34m(self, axes, tup, kwargs, return_kwargs, ambiguous_fmt_datakey)\u001b[0m\n\u001b[1;32m    496\u001b[0m     axes\u001b[38;5;241m.\u001b[39myaxis\u001b[38;5;241m.\u001b[39mupdate_units(y)\n\u001b[1;32m    498\u001b[0m \u001b[38;5;28;01mif\u001b[39;00m x\u001b[38;5;241m.\u001b[39mshape[\u001b[38;5;241m0\u001b[39m] \u001b[38;5;241m!=\u001b[39m y\u001b[38;5;241m.\u001b[39mshape[\u001b[38;5;241m0\u001b[39m]:\n\u001b[0;32m--> 499\u001b[0m     \u001b[38;5;28;01mraise\u001b[39;00m \u001b[38;5;167;01mValueError\u001b[39;00m(\u001b[38;5;124mf\u001b[39m\u001b[38;5;124m\"\u001b[39m\u001b[38;5;124mx and y must have same first dimension, but \u001b[39m\u001b[38;5;124m\"\u001b[39m\n\u001b[1;32m    500\u001b[0m                      \u001b[38;5;124mf\u001b[39m\u001b[38;5;124m\"\u001b[39m\u001b[38;5;124mhave shapes \u001b[39m\u001b[38;5;132;01m{\u001b[39;00mx\u001b[38;5;241m.\u001b[39mshape\u001b[38;5;132;01m}\u001b[39;00m\u001b[38;5;124m and \u001b[39m\u001b[38;5;132;01m{\u001b[39;00my\u001b[38;5;241m.\u001b[39mshape\u001b[38;5;132;01m}\u001b[39;00m\u001b[38;5;124m\"\u001b[39m)\n\u001b[1;32m    501\u001b[0m \u001b[38;5;28;01mif\u001b[39;00m x\u001b[38;5;241m.\u001b[39mndim \u001b[38;5;241m>\u001b[39m \u001b[38;5;241m2\u001b[39m \u001b[38;5;129;01mor\u001b[39;00m y\u001b[38;5;241m.\u001b[39mndim \u001b[38;5;241m>\u001b[39m \u001b[38;5;241m2\u001b[39m:\n\u001b[1;32m    502\u001b[0m     \u001b[38;5;28;01mraise\u001b[39;00m \u001b[38;5;167;01mValueError\u001b[39;00m(\u001b[38;5;124mf\u001b[39m\u001b[38;5;124m\"\u001b[39m\u001b[38;5;124mx and y can be no greater than 2D, but have \u001b[39m\u001b[38;5;124m\"\u001b[39m\n\u001b[1;32m    503\u001b[0m                      \u001b[38;5;124mf\u001b[39m\u001b[38;5;124m\"\u001b[39m\u001b[38;5;124mshapes \u001b[39m\u001b[38;5;132;01m{\u001b[39;00mx\u001b[38;5;241m.\u001b[39mshape\u001b[38;5;132;01m}\u001b[39;00m\u001b[38;5;124m and \u001b[39m\u001b[38;5;132;01m{\u001b[39;00my\u001b[38;5;241m.\u001b[39mshape\u001b[38;5;132;01m}\u001b[39;00m\u001b[38;5;124m\"\u001b[39m)\n",
      "\u001b[0;31mValueError\u001b[0m: x and y must have same first dimension, but have shapes (134,) and (130,)"
     ]
    },
    {
     "data": {
      "image/png": "[encoded data removed]",
      "text/plain": [
       "<Figure size 640x480 with 1 Axes>"
      ]
     },
     "metadata": {},
     "output_type": "display_data"
    }
   ],
   "source": [
    "# Line plot\n",
    "# plt.plot(iterations, df_dropout_greedy[\"top\"], label= \"df_dropout_greedy\")\n",
    "# plt.plot(iterations, df_dropout_ucb[\"top\"], label= \"df_dropout_ucb\")\n",
    "# plt.plot(iterations, df_dropout_random[\"top\"], label= \"df_dropout_random\")\n",
    "\n",
    "# plt.plot(iterations, df_greedy_single[\"top\"], label= \"df_greedy_single\")\n",
    "# plt.plot(iterations, df_single_ucb[\"top\"], label= \"df_single_ucb\")\n",
    "# plt.plot(iterations, df_single_random[\"top\"], label= \"df_single_random\")\n",
    "\n",
    "# plt.plot(iterations, df_mixture_greedy[\"top\"], label= \"df_mixture_greedy\")\n",
    "plt.plot(iterations, df_mixture_ucb[\"top\"], label= \"df_mixture_ucb\")\n",
    "# plt.plot(iterations, df_mixture_random[\"top\"], label= \"df_mixture_random\")\n",
    "\n",
    "# plt.plot(iterations, df_laplace_greedy[\"top\"], label= \"df_laplace_greedy\")\n",
    "# plt.plot(iterations, df_laplace_random[\"top\"], label= \"df_laplace_random\")\n",
    "# plt.plot(iterations, df_laplace_UCB[\"top\"], label= \"df_laplace_UCB\")\n",
    "\n",
    "plt.plot(iterations, df_ensemble_mixture[\"top\"], label= \"ensemble-mixture\")\n",
    "\n",
    "# Set labels and title\n",
    "plt.xlabel('Itrations')\n",
    "plt.ylabel('Top 1%')\n",
    "plt.title(\"Performance for different aquisition functions with Bayesian Active Learning\")\n",
    "plt.legend()\n",
    "\n",
    "# Set the limits for x and y axes\n",
    "plt.xlim(left=min(iterations), right=max(iterations))  # Adjust limits for x-axis\n",
    "plt.ylim(bottom=min(df_laplace_greedy[\"top\"]), top=max(df_laplace_UCB[\"top\"]))  # Adjust limits for y-axis\n",
    "\n",
    "\n",
    "# Show the plot\n",
    "plt.show()"
   ]
  },
  {
   "cell_type": "code",
   "execution_count": null,
   "id": "0ec46e28-cfa2-4104-8cc8-2d0b033cdac3",
   "metadata": {},
   "outputs": [],
   "source": []
  }
 ],
 "metadata": {
  "kernelspec": {
   "display_name": "Python 3 (ipykernel)",
   "language": "python",
   "name": "python3"
  },
  "language_info": {
   "codemirror_mode": {
    "name": "ipython",
    "version": 3
   },
   "file_extension": ".py",
   "mimetype": "text/x-python",
   "name": "python",
   "nbconvert_exporter": "python",
   "pygments_lexer": "ipython3",
   "version": "3.11.7"
  }
 },
 "nbformat": 4,
 "nbformat_minor": 5
}
